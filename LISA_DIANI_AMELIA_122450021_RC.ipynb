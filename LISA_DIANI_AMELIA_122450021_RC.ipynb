{
  "nbformat": 4,
  "nbformat_minor": 0,
  "metadata": {
    "colab": {
      "provenance": []
    },
    "kernelspec": {
      "name": "python3",
      "display_name": "Python 3"
    },
    "language_info": {
      "name": "python"
    }
  },
  "cells": [
    {
      "cell_type": "markdown",
      "source": [
        "**NAMA: LISA DIANI AMELIA**\n",
        "\n",
        "**NIM: 122450021**\n",
        "\n",
        "**RESUME ARTIKEL MATAKULIAH VDI RC**"
      ],
      "metadata": {
        "id": "7iy45fUQ14vV"
      }
    },
    {
      "cell_type": "markdown",
      "source": [
        "**Judul**: Making Data Visualization More Efficient and Effective: A Survey\n",
        "\n",
        "**Penulis**: Xuedi Qin, Yuyu Luo, Nan Tang, Guoliang Li\n",
        "\n",
        "**Abstrak**: Visualisasi data menjadi sangat penting dalam dunia bisnis yang semakin didorong oleh data, terutama dalam membantu pengambilan keputusan yang berdampak langsung pada pendapatan banyak perusahaan industri. Namun, dengan volume, kecepatan, dan kebenaran data yang semakin meningkat, ada kebutuhan yang mendesak bagi para ahli basis data untuk membantu menciptakan visualisasi data yang efisien dan efektif. Makalah ini mengkaji teknik-teknik yang dapat membuat visualisasi data lebih efisien dan efektif."
      ],
      "metadata": {
        "id": "8-9yvQaWz0R3"
      }
    },
    {
      "cell_type": "markdown",
      "source": [
        "**Rangkuman:**\n",
        "1. **Spesifikasi Visualisasi:** Spesifikasi\n",
        "visualisasi memungkinkan pengguna menentukan kebutuhan mereka dalam menghasilkan visualisasi. Ada banyak penelitian dari komunitas visualisasi dan basis data tentang spesifikasi visualisasi. Pendekatan ini penting untuk memahami bagaimana mengonversi data menjadi elemen visual.\n",
        "\n",
        "2. **Pendekatan Efisien untuk Visualisasi Data:** Makalah ini mengkaji\n",
        "berbagai metode untuk membuat proses visualisasi lebih efisien dan dapat diskalakan, termasuk:\n",
        "\n",
        "* **Terjemahan Query SQL:** Contoh query yang digunakan untuk menghasilkan visualisasi bar chart dari data penerbangan:\n",
        "\n"
      ],
      "metadata": {
        "id": "FtXgs_d_z_JK"
      }
    },
    {
      "cell_type": "code",
      "source": [
        "Q1: SELECT carrier, SUM(passengers)\n",
        "    FROM flight_delay\n",
        "    WHERE destination = 'New York'\n",
        "    GROUP BY carrier;"
      ],
      "metadata": {
        "id": "E_yIA3Xl0-IL"
      },
      "execution_count": null,
      "outputs": []
    },
    {
      "cell_type": "markdown",
      "source": [
        "* **Struktur Data dalam Sistem Kyrix:** Sistem visualisasi interaktif ini menggunakan spesifikasi deklaratif untuk menentukan data yang akan divisualisasikan.\n",
        "python\n"
      ],
      "metadata": {
        "id": "LaZzTxlR0Vzl"
      }
    },
    {
      "cell_type": "code",
      "source": [
        "canvas = {\n",
        "    'id': 'canvas1',\n",
        "    'data': 'SELECT * FROM crimes WHERE year = 2020',\n",
        "    'rendering_function': 'draw_map',\n",
        "    'placement_function': 'geographic_placement'\n",
        "}\n",
        "\n",
        "jump = {\n",
        "    'source_canvas': 'canvas1',\n",
        "    'dest_canvas': 'canvas2',\n",
        "    'type': 'zoom_in'\n",
        "}\n"
      ],
      "metadata": {
        "id": "Ze04POOB1LBt"
      },
      "execution_count": 4,
      "outputs": []
    },
    {
      "cell_type": "markdown",
      "source": [
        "* **Algoritma Peringkat Visualisasi DeepEye:** DeepEye menggunakan machine learning untuk memberi peringkat visualisasi berdasarkan kualitas dan kecocokan dengan data."
      ],
      "metadata": {
        "id": "cMAL83Fs1Qau"
      }
    },
    {
      "cell_type": "code",
      "execution_count": 5,
      "metadata": {
        "id": "4vhHYYTNzzZk"
      },
      "outputs": [],
      "source": [
        "def rank_visualizations(visualizations):\n",
        "    ranked_visualizations = []\n",
        "    for viz in visualizations:\n",
        "        score = calculate_score(viz)\n",
        "        ranked_visualizations.append((viz, score))\n",
        "    ranked_visualizations.sort(key=lambda x: x[1], reverse=True)\n",
        "    return ranked_visualizations"
      ]
    },
    {
      "cell_type": "markdown",
      "source": [
        "3. **Rekomendasi Visualisasi:** Sistem rekomendasi visualisasi otomatis dapat membantu melengkapi spesifikasi visualisasi yang tidak lengkap atau menemukan visualisasi yang lebih menarik. Salah satu pendekatan yang digunakan adalah algoritma IFocus yang mempertimbangkan persepsi manusia dalam menghasilkan visualisasi perkiraan."
      ],
      "metadata": {
        "id": "6GzBAeFC1aWW"
      }
    },
    {
      "cell_type": "code",
      "source": [
        "def ifocus_algorithm(groups):\n",
        "    active_groups = set(groups)\n",
        "    while active_groups:\n",
        "        for group in active_groups:\n",
        "            sample = draw_sample(group)\n",
        "            update_confidence_interval(group, sample)\n",
        "            if confidence_interval_determined(group):\n",
        "                active_groups.remove(group)\n",
        "    return generate_visualization()"
      ],
      "metadata": {
        "id": "e_AGM9wA1a0C"
      },
      "execution_count": 6,
      "outputs": []
    },
    {
      "cell_type": "markdown",
      "source": [
        "maka kesimpulannya adalah memberikan gambaran menyeluruh tentang teknik dan alat yang digunakan untuk meningkatkan efisiensi dan efektivitas visualisasi data. Dengan kemajuan dalam bahasa spesifikasi visualisasi, optimisasi query, dan rekomendasi visualisasi berbasis machine learning, para peneliti dan praktisi dapat menghasilkan visualisasi data yang lebih informatif dan relevan dengan lebih cepat dan mudah.\n",
        "\n"
      ],
      "metadata": {
        "id": "z75_iF6K1m0N"
      }
    }
  ]
}